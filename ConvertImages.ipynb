{
 "cells": [
  {
   "cell_type": "code",
   "execution_count": 11,
   "metadata": {},
   "outputs": [],
   "source": [
    "from PIL import Image, ImageOps\n",
    "from tqdm.auto import tqdm"
   ]
  },
  {
   "cell_type": "code",
   "execution_count": 13,
   "metadata": {},
   "outputs": [],
   "source": [
    "for i in range(10):\n",
    "    for j in range (1,3501):\n",
    "        im = Image.open('newtrainingSet/'+str(i)+'/img'+str(j)+'.jpg')\n",
    "        im_invert = ImageOps.invert(im)\n",
    "        im_invert.save('newtrainingSet/'+str(i)+'/img'+str(j)+'.jpg')"
   ]
  },
  {
   "cell_type": "code",
   "execution_count": null,
   "metadata": {},
   "outputs": [],
   "source": [
    "PFont f;   \n",
    "void setup() {\n",
    "  size(28,28);\n",
    "  f = createFont(\"Arial\",16,true); \n",
    "}\n",
    "\n",
    "void draw() {\n",
    "  for (int i = 1; i < 801; i++) {\n",
    "    for (int j = 0; j < 10; j++) {\n",
    "      float fontsize = random(20,25);\n",
    "      float textx = random(width/2-8, width/2-5);\n",
    "      float texty = random(height/2+8,height/2+11);\n",
    "      background(255);\n",
    "      textFont(f,fontsize);\n",
    "      fill(0);\n",
    "      if (j == 0) {\n",
    "        text(\"\", textx, texty);\n",
    "      } else{\n",
    "      text(j, textx, texty);\n",
    "      }\n",
    "      saveFrame(\"data/\"+j+\"/Img\"+i+\".jpg\");\n",
    "    }\n",
    "  }\n",
    "}"
   ]
  },
  {
   "cell_type": "code",
   "execution_count": null,
   "metadata": {},
   "outputs": [],
   "source": []
  }
 ],
 "metadata": {
  "kernelspec": {
   "display_name": "Python 3",
   "language": "python",
   "name": "python3"
  },
  "language_info": {
   "codemirror_mode": {
    "name": "ipython",
    "version": 3
   },
   "file_extension": ".py",
   "mimetype": "text/x-python",
   "name": "python",
   "nbconvert_exporter": "python",
   "pygments_lexer": "ipython3",
   "version": "3.8.5"
  }
 },
 "nbformat": 4,
 "nbformat_minor": 4
}
